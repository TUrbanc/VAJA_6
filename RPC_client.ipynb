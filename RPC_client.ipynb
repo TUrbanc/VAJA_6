{
 "cells": [
  {
   "cell_type": "markdown",
   "metadata": {},
   "source": [
    "# Vaja - RPC client\n",
    "\n",
    "Izdelali bomo preprost rpc client z uporabo knjižnice requests. Na koncu če bomo imeli čas si bomo ogledali kako lahko nastalo kodo še dodatno optimiziramo tako da uporabimo async  in batching metodi. \n",
    "\n",
    "Dokumentacija RPC api-ja: https://ethereum.github.io/execution-apis/api-documentation/\n",
    "\n",
    "## Prvi del - samostojna izdelava klienta (zaprosimo za zadnji blok)\n",
    "\n",
    "- Definiramo variable, ki so potrebne za request (POST)\n",
    "- Pošljemo request\n",
    "- Preverimo če je odgovor pravilen, ter shranimo odgovor v json (if pravilen)\n"
   ]
  },
  {
   "cell_type": "markdown",
   "metadata": {},
   "source": [
    "\n",
    "#### Implementiraj kodo (pomagaj si z comments)\n",
    "\n",
    "\n",
    "\n",
    "\n",
    "\n"
   ]
  },
  {
   "cell_type": "code",
   "execution_count": 11,
   "metadata": {},
   "outputs": [
    {
     "name": "stdout",
     "output_type": "stream",
     "text": [
      "dobili smo blok\n"
     ]
    }
   ],
   "source": [
    "import requests\n",
    "import json\n",
    "\n",
    "# definiraj VARIABLE nase skripte\n",
    "    # API URL od infure za Ethereum mainnet\n",
    "api_url = \"https://mainnet.infura.io/v3/0bb380ad1c934961b2c0f1f3de75c59a\"\n",
    "\n",
    "    # JSON-RPC request payload  (pogledamo dokumentacijo!)\n",
    "\n",
    "rpc_payload= {\n",
    "    \"jasonrpc\" : \"2:0\",\n",
    "    \"method\" : \"eth_BlockByNumber\",\n",
    "    \"params\" :[\"latest\", True],\n",
    "    \"id\":0\n",
    "}\n",
    "\n",
    "    # Nastavimo headerje za JSON-RPC request\n",
    "\n",
    "headers={\n",
    "    \"Content-Type\":\"application/json\",\n",
    "}\n",
    "\n",
    "# Pošljemo request (uporabimo requests.post mdetodo)\n",
    "\n",
    "response = requests.post(api_url, data= json.dumps(rpc_payload), headers=headers)\n",
    "\n",
    "# Error handling. POgledamo če smo dobili pravilen odgovor.\n",
    "    # ce ni error-ja (status code 200) sprintamo sporocilo in shranimo dobljeno sporocilo v json\n",
    "if response.status_code == 200:\n",
    "    block_data = response.json()\n",
    "    print(\"dobili smo blok\")\n",
    "    with open('BlockData.json', 'w') as f:\n",
    "        json.dump(response.json(), f, indent = 4)\n",
    "\n",
    "    # else, sprintaj sporocilo da nam ni uspelo dobiti zadnji block in dodaj kateri error oz. code-status code smo dobili\n",
    "else:\n",
    "    print(f\"ni ratal, error code: {response.status_code}\")"
   ]
  },
  {
   "cell_type": "markdown",
   "metadata": {},
   "source": [
    "\n",
    "## Drugi del - delo s podatki (block_data.json)\n",
    "\n",
    "V bloku imamo del kjer so zapisane transakcije, naša naloga je, da preštejemo koliko je teh transakcij."
   ]
  },
  {
   "cell_type": "code",
   "execution_count": null,
   "metadata": {},
   "outputs": [],
   "source": [
    "\n",
    "# naredimo kopijo podatkov - .copy() metoda\n",
    "data = block_data.copy()\n",
    "\n",
    "# definiramo counter\n",
    "counter = 0\n",
    "\n",
    "# Iteriramo čez transakcije in povečujemo counter\n",
    "for transaction in data[\"result\"][\"transactions\"]:\n",
    "    counter += 1\n",
    "\n",
    "# Izpišemo/sprintamo counter (število transakcij)\n",
    "print(counter)\n"
   ]
  },
  {
   "cell_type": "markdown",
   "metadata": {},
   "source": [
    "\n",
    "##  Tretji del - DODATNA VAJA ni obezna - izluščimo vse naslove (from, to) iz transakcij\n",
    "\n",
    "V vsaki transakciji imamo definirana naslova pošiljalca (\"from\") in prejemnika (\"to\"). Naša naloga je, da izluščimo vse naslove in jih shranimo v dictionary kot ključe (key). Za vrednosti (value) pa zaenkrat zapisemo vrednost None.\n"
   ]
  },
  {
   "cell_type": "code",
   "execution_count": null,
   "metadata": {},
   "outputs": [],
   "source": [
    "\n",
    "# naredimo kopijo podatkov - .copy() metoda\n",
    "\n",
    "\n",
    "# definiramo dictionary za shranjevanje naslovov\n",
    "\n",
    "\n",
    "# iteriramo čez transakcije in izluščimo naslove (.get(\"from\")   .get(\"to\")) in jih shranimo v dictionary\n",
    "\n",
    "\n",
    "# sprintamo dictionary\n",
    "\n"
   ]
  },
  {
   "cell_type": "markdown",
   "metadata": {},
   "source": [
    "## Četrti del - refactoring\n",
    "\n",
    "Do sedaj spisano kodo spravite v funkciji in nato napisite se main() funkcijo ki klice funkciji v pravilnem vrstnem redu. Rezultat je bolj pregledna in modularna skripta.\n",
    "\n",
    "- Kodo do zdaj spravi v funkciji\n",
    "- Napiši še dodatno funkcijo main() ki bo klicala obe funkciji v pravilnem vrstnem redu\n",
    "    - npr. 1. funkcija getBlock 2. funkcija steviloTransakcij ali izlusciNaslove\n"
   ]
  },
  {
   "cell_type": "code",
   "execution_count": null,
   "metadata": {},
   "outputs": [],
   "source": [
    "def getBlock(api_url,headString):\n",
    "   \n",
    "    # definiraj VARIABLE nase skripte\n",
    "        # API URL od infure za Ethereum mainnet\n",
    "    #api_url = \"https://mainnet.infura.io/v3/0bb380ad1c934961b2c0f1f3de75c59a\"\n",
    "\n",
    "        # JSON-RPC request payload  (pogledamo dokumentacijo!)\n",
    "    rpc_payload= {\n",
    "            \"jasonrpc\": \"2.0\",\n",
    "            \"method\": \"eth_getBlockByNumber\",\n",
    "            \"params\":[\"latest\", True],\n",
    "            \"id\": 0\n",
    "    }\n",
    "\n",
    "        # Nastavimo headerje za JSON-RPC request\n",
    "    headers={\n",
    "            \"Content-Type\":headString\n",
    "           \n",
    "    }\n",
    "\n",
    "    # Pošljemo request (uporabimo requests.post mdetodo)\n",
    "    response = requests.post(api_url,data=json.dumps(rpc_payload),headers=headers)\n",
    "\n",
    "    # Error handling. POgledamo če smo dobili pravilen odgovor.\n",
    "        # ce ni error-ja (status code 200) sprintamo sporocilo in shranimo dobljeno sporocilo v json\n",
    "    if response.status_code == 200:\n",
    "        block_data = response.json()\n",
    "        with open('blockData.json', 'w') as f:\n",
    "            json.dump(response.json(),f,indent=4)\n",
    "    else:\n",
    "        print(\"nč ne dela\")\n",
    "\n",
    "        # else, sprintaj sporocilo da nam ni uspelo dobiti zadnji block in dodaj kateri error oz. code-status code smo dobili\n",
    "\n",
    "def count():\n",
    "    # naredimo kopijo podatkov - .copy() metoda\n",
    "    data = block_data.copy()\n",
    "\n",
    "    # definiramo counter\n",
    "    counter = 0\n",
    "\n",
    "    # Iteriramo čez transakcije in povečujemo counter\n",
    "    for transactions in data[\"result\"][\"transactions\"]:\n",
    "        counter +=1\n",
    "\n",
    "    # Izpišemo/sprintamo counter (število transakcij)\n",
    "    print(counter)\n",
    "\n",
    "def main():\n",
    "    getBlock(\"https://mainnet.infura.io/v3/0bb380ad1c934961b2c0f1f3de75c59a\",\"application/json\")\n",
    "    count()\n",
    "main()\n"
   ]
  }
 ],
 "metadata": {
  "kernelspec": {
   "display_name": "Python 3 (ipykernel)",
   "language": "python",
   "name": "python3"
  },
  "language_info": {
   "codemirror_mode": {
    "name": "ipython",
    "version": 3
   },
   "file_extension": ".py",
   "mimetype": "text/x-python",
   "name": "python",
   "nbconvert_exporter": "python",
   "pygments_lexer": "ipython3",
   "version": "3.11.5"
  }
 },
 "nbformat": 4,
 "nbformat_minor": 2
}
